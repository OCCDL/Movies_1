{
 "cells": [
  {
   "cell_type": "markdown",
   "metadata": {},
   "source": [
    "### Librerias utilizadas"
   ]
  },
  {
   "cell_type": "code",
   "execution_count": 37,
   "metadata": {},
   "outputs": [],
   "source": [
    "import pandas as pd\n",
    "import re\n",
    "import ast\n"
   ]
  },
  {
   "cell_type": "code",
   "execution_count": 5,
   "metadata": {},
   "outputs": [
    {
     "name": "stderr",
     "output_type": "stream",
     "text": [
      "C:\\Users\\Luis Fernando Martin\\AppData\\Local\\Temp\\ipykernel_9748\\538979729.py:1: DtypeWarning: Columns (10) have mixed types. Specify dtype option on import or set low_memory=False.\n",
      "  df1 = pd.read_csv('movies_dataset.csv')\n"
     ]
    }
   ],
   "source": [
    "df1 = pd.read_csv('movies_dataset.csv')"
   ]
  },
  {
   "cell_type": "code",
   "execution_count": 7,
   "metadata": {},
   "outputs": [],
   "source": [
    "# Configuración para mostrar todas las columnas\n",
    "pd.set_option('display.max_columns', None)"
   ]
  },
  {
   "cell_type": "code",
   "execution_count": 50,
   "metadata": {},
   "outputs": [],
   "source": [
    "#df1"
   ]
  },
  {
   "cell_type": "markdown",
   "metadata": {},
   "source": [
    "#### Primer paso es desanidar las columnas anidadas "
   ]
  },
  {
   "cell_type": "code",
   "execution_count": 12,
   "metadata": {},
   "outputs": [],
   "source": [
    "# Buscamos si está, y si está busca la clave 'id' y captura todo el texto que sigue hasta la próxima comilla simple, excepto la ,\n",
    "busqueda1 = r\"'id': ([^,]*)\"\n",
    "df1['coll_id'] = df1['belongs_to_collection'].str.extract(busqueda1, flags=re.IGNORECASE)\n",
    "\n",
    " #Si 'coll_id' es nulo (NaN), es que no contiene los valores extraídos de id de la colección.\n",
    "busqueda2 = r\"'name': '([^']*)\"\n",
    "df1['coll_name'] = df1['belongs_to_collection'].str.extract(busqueda2, flags=re.IGNORECASE)\n",
    "\n",
    " #Creamos una nueva columna 'coll_name' que contiene los valores extraídos del nombre de la colección.\n",
    "#df1.head(5)"
   ]
  },
  {
   "cell_type": "code",
   "execution_count": 14,
   "metadata": {},
   "outputs": [],
   "source": [
    "#Desanide las columna \"production_companies\"\n",
    "Muest_1 = r\"'id': ([^}]*)\"\n",
    "df1['production_company_id'] = df1['production_companies'].str.extract(Muest_1, flags=re.IGNORECASE)\n",
    "Muest_2= r\"'name': '([^']*)\"\n",
    "df1['production_company_name'] = df1['production_companies'].str.extract(Muest_2, flags=re.IGNORECASE)\n",
    "#df1.head(5)"
   ]
  },
  {
   "cell_type": "markdown",
   "metadata": {},
   "source": [
    "### Rellenar valores nulos de los columnas revenue, budget"
   ]
  },
  {
   "cell_type": "code",
   "execution_count": 17,
   "metadata": {},
   "outputs": [
    {
     "name": "stdout",
     "output_type": "stream",
     "text": [
      "Valores nulos en 'revenue': 0\n",
      "Valores nulos en 'budget': 0\n"
     ]
    }
   ],
   "source": [
    "# Cuento la cantidad de valores nulos en las columnas 'revenue' y 'budget'\n",
    "nulos_revenue = df1['revenue'].isnull().sum()\n",
    "nulos_budget = df1['budget'].isnull().sum()\n",
    "\n",
    "# Mostrar la cantidad de valores nulos en cada columna\n",
    "print(f\"Valores nulos en 'revenue': {nulos_revenue}\")\n",
    "print(f\"Valores nulos en 'budget': {nulos_budget}\")\n"
   ]
  },
  {
   "cell_type": "code",
   "execution_count": 18,
   "metadata": {},
   "outputs": [],
   "source": [
    "# Rellenar los valores nulos en la columna 'revenue' con 0\n",
    "df1['revenue'] = df1['revenue'].fillna(0)\n",
    "#df1"
   ]
  },
  {
   "cell_type": "markdown",
   "metadata": {},
   "source": [
    "### Verifico los valores NaN de la columna release_date y los elimino"
   ]
  },
  {
   "cell_type": "code",
   "execution_count": 21,
   "metadata": {},
   "outputs": [
    {
     "data": {
      "text/plain": [
       "0"
      ]
     },
     "execution_count": 21,
     "metadata": {},
     "output_type": "execute_result"
    }
   ],
   "source": [
    "# Contar valores NaN en la columna 'release_date'\n",
    "nan_count = df1['release_date'].isna().sum()\n",
    "nan_count"
   ]
  },
  {
   "cell_type": "code",
   "execution_count": 20,
   "metadata": {},
   "outputs": [],
   "source": [
    "# Elimine donde 'release_date' tiene valores NaN\n",
    "df1 = df1.dropna(subset=['release_date'])"
   ]
  },
  {
   "cell_type": "markdown",
   "metadata": {},
   "source": [
    "### Estraer el año de la fecha de estreno de la pelicula "
   ]
  },
  {
   "cell_type": "code",
   "execution_count": 24,
   "metadata": {},
   "outputs": [
    {
     "name": "stderr",
     "output_type": "stream",
     "text": [
      "C:\\Users\\Luis Fernando Martin\\AppData\\Local\\Temp\\ipykernel_9748\\2275649560.py:2: SettingWithCopyWarning: \n",
      "A value is trying to be set on a copy of a slice from a DataFrame.\n",
      "Try using .loc[row_indexer,col_indexer] = value instead\n",
      "\n",
      "See the caveats in the documentation: https://pandas.pydata.org/pandas-docs/stable/user_guide/indexing.html#returning-a-view-versus-a-copy\n",
      "  df1['release_date'] = pd.to_datetime(df1['release_date'], errors='coerce').dt.strftime('%Y-%m-%d')\n",
      "C:\\Users\\Luis Fernando Martin\\AppData\\Local\\Temp\\ipykernel_9748\\2275649560.py:5: SettingWithCopyWarning: \n",
      "A value is trying to be set on a copy of a slice from a DataFrame.\n",
      "Try using .loc[row_indexer,col_indexer] = value instead\n",
      "\n",
      "See the caveats in the documentation: https://pandas.pydata.org/pandas-docs/stable/user_guide/indexing.html#returning-a-view-versus-a-copy\n",
      "  df1['release_year'] = pd.to_datetime(df1['release_date'], errors='coerce').dt.year.astype('Int64')\n"
     ]
    }
   ],
   "source": [
    "# Convertir la columna 'release_date' al formato 'AAAA-mm-dd' si contiene fechas\n",
    "df1['release_date'] = pd.to_datetime(df1['release_date'], errors='coerce').dt.strftime('%Y-%m-%d')\n",
    "\n",
    "# Crear la columna 'release_year' extrayendo el año de la columna 'release_date' y convertir a entero\n",
    "df1['release_year'] = pd.to_datetime(df1['release_date'], errors='coerce').dt.year.astype('Int64')\n",
    "\n",
    "# Mostrar el DataFrame para verificar los cambios\n",
    "#df1\n"
   ]
  },
  {
   "cell_type": "markdown",
   "metadata": {},
   "source": [
    "### Dividiendo las dos columnas revenue y budget y despues obtemos la columna return con el toltal de la divicion "
   ]
  },
  {
   "cell_type": "code",
   "execution_count": 27,
   "metadata": {},
   "outputs": [
    {
     "name": "stderr",
     "output_type": "stream",
     "text": [
      "C:\\Users\\Luis Fernando Martin\\AppData\\Local\\Temp\\ipykernel_9748\\2051867996.py:2: SettingWithCopyWarning: \n",
      "A value is trying to be set on a copy of a slice from a DataFrame.\n",
      "Try using .loc[row_indexer,col_indexer] = value instead\n",
      "\n",
      "See the caveats in the documentation: https://pandas.pydata.org/pandas-docs/stable/user_guide/indexing.html#returning-a-view-versus-a-copy\n",
      "  df1['revenue'] = pd.to_numeric(df1['revenue'], errors='coerce')\n",
      "C:\\Users\\Luis Fernando Martin\\AppData\\Local\\Temp\\ipykernel_9748\\2051867996.py:3: SettingWithCopyWarning: \n",
      "A value is trying to be set on a copy of a slice from a DataFrame.\n",
      "Try using .loc[row_indexer,col_indexer] = value instead\n",
      "\n",
      "See the caveats in the documentation: https://pandas.pydata.org/pandas-docs/stable/user_guide/indexing.html#returning-a-view-versus-a-copy\n",
      "  df1['budget'] = pd.to_numeric(df1['budget'], errors='coerce')\n",
      "C:\\Users\\Luis Fernando Martin\\AppData\\Local\\Temp\\ipykernel_9748\\2051867996.py:6: SettingWithCopyWarning: \n",
      "A value is trying to be set on a copy of a slice from a DataFrame.\n",
      "Try using .loc[row_indexer,col_indexer] = value instead\n",
      "\n",
      "See the caveats in the documentation: https://pandas.pydata.org/pandas-docs/stable/user_guide/indexing.html#returning-a-view-versus-a-copy\n",
      "  df1['return'] = df1.apply(lambda row: row['revenue'] / row['budget'] if row['budget'] != 0 else 0, axis=1)\n"
     ]
    }
   ],
   "source": [
    "# Convertir las columnas 'revenue' y 'budget' a tipo numérico, forzando errores a NaN\n",
    "df1['revenue'] = pd.to_numeric(df1['revenue'], errors='coerce')\n",
    "df1['budget'] = pd.to_numeric(df1['budget'], errors='coerce')\n",
    "\n",
    "# Crear la columna 'return' calculando revenue / budget\n",
    "df1['return'] = df1.apply(lambda row: row['revenue'] / row['budget'] if row['budget'] != 0 else 0, axis=1)\n",
    "#df1"
   ]
  },
  {
   "cell_type": "markdown",
   "metadata": {},
   "source": [
    "### Elimar las columnas que nos sugirieron a eliminar "
   ]
  },
  {
   "cell_type": "code",
   "execution_count": 32,
   "metadata": {},
   "outputs": [],
   "source": [
    "# Verifico si las columnas a eliminar existen en el DataFrame\n",
    "columns_to_remove = ['video', 'imdb_id', 'adult', 'original_title', 'poster_path', 'homepage']\n",
    "existing_columns = [col for col in columns_to_remove if col in df1.columns]\n",
    "\n",
    "# Elimino las columnas que existen en el DataFrame\n",
    "df1.drop(columns=existing_columns, inplace=True)\n",
    "#df1"
   ]
  },
  {
   "cell_type": "code",
   "execution_count": 35,
   "metadata": {},
   "outputs": [],
   "source": [
    "# Verificar si las columnas existen y eliminarlas si es así\n",
    "columns_to_drop = ['belongs_to_collection', 'production_companies']\n",
    "\n",
    "# Eliminar las columnas si existen\n",
    "df1 = df1.drop(columns=[col for col in columns_to_drop if col in df1.columns], errors='ignore')\n",
    "\n",
    "# Mostrar el DataFrame para confirmar que las columnas han sido eliminadas\n",
    "#df1"
   ]
  },
  {
   "cell_type": "markdown",
   "metadata": {},
   "source": [
    "### Desanide la columna genres"
   ]
  },
  {
   "cell_type": "code",
   "execution_count": 46,
   "metadata": {},
   "outputs": [],
   "source": [
    "# # Función para extraer los géneros sin corchetes\n",
    "def extract_genres(genres_list):\n",
    "#     # Verificar si genres_list es una lista y no es vacía\n",
    "     if isinstance(genres_list, list) and genres_list:\n",
    "         genres = [genre['name'] for genre in genres_list if 'name' in genre]\n",
    "         return ', '.join(genres)  # Unir los géneros en una cadena separada por comas\n",
    "     return ''  # Devolver una cadena vacía si no hay géneros\n",
    "\n",
    "# # Suponiendo que 'df1' es tu DataFrame y 'genres' es la columna que quieres desanidar\n",
    "df1['genres'] = df1['genres'].apply(lambda x: extract_genres(ast.literal_eval(x)) if pd.notna(x) and x != 'NaN' else '')\n",
    "\n",
    "# # Mostrar los primeros registros para verificar el resultado\n",
    "# #print(df1['genres'].head())\n",
    "#df1"
   ]
  },
  {
   "cell_type": "code",
   "execution_count": 48,
   "metadata": {},
   "outputs": [
    {
     "name": "stdout",
     "output_type": "stream",
     "text": [
      "Cantidad de valores duplicados en la columna 'id': 0\n",
      "Cantidad de valores NaN en la columna 'id': 0\n"
     ]
    }
   ],
   "source": [
    "# Contar valores duplicados en la columna 'id'\n",
    "duplicados = df1['id'].duplicated(keep=False).sum()\n",
    "\n",
    "# Contar valores NaN en la columna 'id'\n",
    "nan_count = df1['id'].isna().sum()\n",
    "\n",
    "print(f\"Cantidad de valores duplicados en la columna 'id': {duplicados}\")\n",
    "print(f\"Cantidad de valores NaN en la columna 'id': {nan_count}\")"
   ]
  },
  {
   "cell_type": "code",
   "execution_count": 43,
   "metadata": {},
   "outputs": [],
   "source": [
    "# Eliminar valores duplicados en la columna 'id', manteniendo solo la primera ocurrencia\n",
    "#df1 = df1.drop_duplicates(subset='id', keep='first')\n",
    "\n",
    "# Verificar el resultado\n",
    "#print(df1.head())"
   ]
  },
  {
   "cell_type": "markdown",
   "metadata": {},
   "source": [
    "### Guarde el archivo ya modificado"
   ]
  },
  {
   "cell_type": "code",
   "execution_count": 49,
   "metadata": {},
   "outputs": [],
   "source": [
    "# Guardar el DataFrame en un archivo CSV\n",
    "df1.to_csv('movies.modificado.csv', index=False)\n"
   ]
  }
 ],
 "metadata": {
  "kernelspec": {
   "display_name": "Python 3",
   "language": "python",
   "name": "python3"
  },
  "language_info": {
   "codemirror_mode": {
    "name": "ipython",
    "version": 3
   },
   "file_extension": ".py",
   "mimetype": "text/x-python",
   "name": "python",
   "nbconvert_exporter": "python",
   "pygments_lexer": "ipython3",
   "version": "3.12.1"
  }
 },
 "nbformat": 4,
 "nbformat_minor": 2
}
