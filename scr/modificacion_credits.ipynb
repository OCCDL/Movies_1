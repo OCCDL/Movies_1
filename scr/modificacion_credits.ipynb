{
 "cells": [
  {
   "cell_type": "markdown",
   "metadata": {},
   "source": [
    "### Librerias utilizadas"
   ]
  },
  {
   "cell_type": "code",
   "execution_count": 4,
   "metadata": {},
   "outputs": [],
   "source": [
    "import pandas as pd\n",
    "import re\n",
    "import ast"
   ]
  },
  {
   "cell_type": "code",
   "execution_count": 5,
   "metadata": {},
   "outputs": [],
   "source": [
    "df_credits2 = pd.read_csv('credits.csv')"
   ]
  },
  {
   "cell_type": "code",
   "execution_count": 6,
   "metadata": {},
   "outputs": [
    {
     "data": {
      "text/html": [
       "<div>\n",
       "<style scoped>\n",
       "    .dataframe tbody tr th:only-of-type {\n",
       "        vertical-align: middle;\n",
       "    }\n",
       "\n",
       "    .dataframe tbody tr th {\n",
       "        vertical-align: top;\n",
       "    }\n",
       "\n",
       "    .dataframe thead th {\n",
       "        text-align: right;\n",
       "    }\n",
       "</style>\n",
       "<table border=\"1\" class=\"dataframe\">\n",
       "  <thead>\n",
       "    <tr style=\"text-align: right;\">\n",
       "      <th></th>\n",
       "      <th>cast</th>\n",
       "      <th>crew</th>\n",
       "      <th>id</th>\n",
       "    </tr>\n",
       "  </thead>\n",
       "  <tbody>\n",
       "    <tr>\n",
       "      <th>0</th>\n",
       "      <td>[{'cast_id': 14, 'character': 'Woody (voice)',...</td>\n",
       "      <td>[{'credit_id': '52fe4284c3a36847f8024f49', 'de...</td>\n",
       "      <td>862</td>\n",
       "    </tr>\n",
       "    <tr>\n",
       "      <th>1</th>\n",
       "      <td>[{'cast_id': 1, 'character': 'Alan Parrish', '...</td>\n",
       "      <td>[{'credit_id': '52fe44bfc3a36847f80a7cd1', 'de...</td>\n",
       "      <td>8844</td>\n",
       "    </tr>\n",
       "    <tr>\n",
       "      <th>2</th>\n",
       "      <td>[{'cast_id': 2, 'character': 'Max Goldman', 'c...</td>\n",
       "      <td>[{'credit_id': '52fe466a9251416c75077a89', 'de...</td>\n",
       "      <td>15602</td>\n",
       "    </tr>\n",
       "    <tr>\n",
       "      <th>3</th>\n",
       "      <td>[{'cast_id': 1, 'character': \"Savannah 'Vannah...</td>\n",
       "      <td>[{'credit_id': '52fe44779251416c91011acb', 'de...</td>\n",
       "      <td>31357</td>\n",
       "    </tr>\n",
       "    <tr>\n",
       "      <th>4</th>\n",
       "      <td>[{'cast_id': 1, 'character': 'George Banks', '...</td>\n",
       "      <td>[{'credit_id': '52fe44959251416c75039ed7', 'de...</td>\n",
       "      <td>11862</td>\n",
       "    </tr>\n",
       "    <tr>\n",
       "      <th>...</th>\n",
       "      <td>...</td>\n",
       "      <td>...</td>\n",
       "      <td>...</td>\n",
       "    </tr>\n",
       "    <tr>\n",
       "      <th>45471</th>\n",
       "      <td>[{'cast_id': 0, 'character': '', 'credit_id': ...</td>\n",
       "      <td>[{'credit_id': '5894a97d925141426c00818c', 'de...</td>\n",
       "      <td>439050</td>\n",
       "    </tr>\n",
       "    <tr>\n",
       "      <th>45472</th>\n",
       "      <td>[{'cast_id': 1002, 'character': 'Sister Angela...</td>\n",
       "      <td>[{'credit_id': '52fe4af1c3a36847f81e9b15', 'de...</td>\n",
       "      <td>111109</td>\n",
       "    </tr>\n",
       "    <tr>\n",
       "      <th>45473</th>\n",
       "      <td>[{'cast_id': 6, 'character': 'Emily Shaw', 'cr...</td>\n",
       "      <td>[{'credit_id': '52fe4776c3a368484e0c8387', 'de...</td>\n",
       "      <td>67758</td>\n",
       "    </tr>\n",
       "    <tr>\n",
       "      <th>45474</th>\n",
       "      <td>[{'cast_id': 2, 'character': '', 'credit_id': ...</td>\n",
       "      <td>[{'credit_id': '533bccebc3a36844cf0011a7', 'de...</td>\n",
       "      <td>227506</td>\n",
       "    </tr>\n",
       "    <tr>\n",
       "      <th>45475</th>\n",
       "      <td>[]</td>\n",
       "      <td>[{'credit_id': '593e676c92514105b702e68e', 'de...</td>\n",
       "      <td>461257</td>\n",
       "    </tr>\n",
       "  </tbody>\n",
       "</table>\n",
       "<p>45476 rows × 3 columns</p>\n",
       "</div>"
      ],
      "text/plain": [
       "                                                    cast  \\\n",
       "0      [{'cast_id': 14, 'character': 'Woody (voice)',...   \n",
       "1      [{'cast_id': 1, 'character': 'Alan Parrish', '...   \n",
       "2      [{'cast_id': 2, 'character': 'Max Goldman', 'c...   \n",
       "3      [{'cast_id': 1, 'character': \"Savannah 'Vannah...   \n",
       "4      [{'cast_id': 1, 'character': 'George Banks', '...   \n",
       "...                                                  ...   \n",
       "45471  [{'cast_id': 0, 'character': '', 'credit_id': ...   \n",
       "45472  [{'cast_id': 1002, 'character': 'Sister Angela...   \n",
       "45473  [{'cast_id': 6, 'character': 'Emily Shaw', 'cr...   \n",
       "45474  [{'cast_id': 2, 'character': '', 'credit_id': ...   \n",
       "45475                                                 []   \n",
       "\n",
       "                                                    crew      id  \n",
       "0      [{'credit_id': '52fe4284c3a36847f8024f49', 'de...     862  \n",
       "1      [{'credit_id': '52fe44bfc3a36847f80a7cd1', 'de...    8844  \n",
       "2      [{'credit_id': '52fe466a9251416c75077a89', 'de...   15602  \n",
       "3      [{'credit_id': '52fe44779251416c91011acb', 'de...   31357  \n",
       "4      [{'credit_id': '52fe44959251416c75039ed7', 'de...   11862  \n",
       "...                                                  ...     ...  \n",
       "45471  [{'credit_id': '5894a97d925141426c00818c', 'de...  439050  \n",
       "45472  [{'credit_id': '52fe4af1c3a36847f81e9b15', 'de...  111109  \n",
       "45473  [{'credit_id': '52fe4776c3a368484e0c8387', 'de...   67758  \n",
       "45474  [{'credit_id': '533bccebc3a36844cf0011a7', 'de...  227506  \n",
       "45475  [{'credit_id': '593e676c92514105b702e68e', 'de...  461257  \n",
       "\n",
       "[45476 rows x 3 columns]"
      ]
     },
     "execution_count": 6,
     "metadata": {},
     "output_type": "execute_result"
    }
   ],
   "source": [
    "df_credits2 "
   ]
  },
  {
   "cell_type": "markdown",
   "metadata": {},
   "source": [
    "### Contar valores duplicados de la columna id y despues los eliminamos"
   ]
  },
  {
   "cell_type": "code",
   "execution_count": 7,
   "metadata": {},
   "outputs": [
    {
     "name": "stdout",
     "output_type": "stream",
     "text": [
      "Cantidad de valores duplicados en la columna 'id': 87\n",
      "Cantidad de valores NaN en la columna 'id': 0\n"
     ]
    }
   ],
   "source": [
    "# Contar valores duplicados en la columna 'id'\n",
    "duplicados = df_credits2['id'].duplicated(keep=False).sum()\n",
    "\n",
    "# Contar valores NaN en la columna 'id'\n",
    "nan_count = df_credits2['id'].isna().sum()\n",
    "\n",
    "print(f\"Cantidad de valores duplicados en la columna 'id': {duplicados}\")\n",
    "print(f\"Cantidad de valores NaN en la columna 'id': {nan_count}\")"
   ]
  },
  {
   "cell_type": "code",
   "execution_count": 8,
   "metadata": {},
   "outputs": [],
   "source": [
    "# Eliminar valores duplicados en la columna 'id', manteniendo solo la primera ocurrencia\n",
    "df_credits2 = df_credits2.drop_duplicates(subset='id', keep='first')\n",
    "\n",
    "# Verificar el resultado\n",
    "#print(df1.head())"
   ]
  },
  {
   "cell_type": "markdown",
   "metadata": {},
   "source": [
    "### Converti la columna crew a una lista de diccionario y igual con cast y luego las desanide"
   ]
  },
  {
   "cell_type": "code",
   "execution_count": 9,
   "metadata": {},
   "outputs": [
    {
     "name": "stdout",
     "output_type": "stream",
     "text": [
      "           id     director_name\n",
      "0         862     John Lasseter\n",
      "1        8844      Joe Johnston\n",
      "2       15602     Howard Deutch\n",
      "3       31357   Forest Whitaker\n",
      "4       11862     Charles Shyer\n",
      "...       ...               ...\n",
      "45471  439050  Hamid Nematollah\n",
      "45472  111109          Lav Diaz\n",
      "45473   67758    Mark L. Lester\n",
      "45474  227506  Yakov Protazanov\n",
      "45475  461257     Daisy Asquith\n",
      "\n",
      "[45432 rows x 2 columns]\n"
     ]
    },
    {
     "name": "stderr",
     "output_type": "stream",
     "text": [
      "C:\\Users\\Luis Fernando Martin\\AppData\\Local\\Temp\\ipykernel_13056\\1614170328.py:2: SettingWithCopyWarning: \n",
      "A value is trying to be set on a copy of a slice from a DataFrame.\n",
      "Try using .loc[row_indexer,col_indexer] = value instead\n",
      "\n",
      "See the caveats in the documentation: https://pandas.pydata.org/pandas-docs/stable/user_guide/indexing.html#returning-a-view-versus-a-copy\n",
      "  df_credits2['crew'] = df_credits2['crew'].apply(ast.literal_eval)\n",
      "C:\\Users\\Luis Fernando Martin\\AppData\\Local\\Temp\\ipykernel_13056\\1614170328.py:12: SettingWithCopyWarning: \n",
      "A value is trying to be set on a copy of a slice from a DataFrame.\n",
      "Try using .loc[row_indexer,col_indexer] = value instead\n",
      "\n",
      "See the caveats in the documentation: https://pandas.pydata.org/pandas-docs/stable/user_guide/indexing.html#returning-a-view-versus-a-copy\n",
      "  df_credits2['director_name'] = df_credits2['crew'].apply(extract_director)\n"
     ]
    }
   ],
   "source": [
    "# Primero, converti la columna `crew` de texto a una lista de diccionarios\n",
    "df_credits2['crew'] = df_credits2['crew'].apply(ast.literal_eval)\n",
    "\n",
    "# Defini una función para extraer el nombre del director\n",
    "def extract_director(crew_list):\n",
    "    for member in crew_list:\n",
    "        if member.get('job') == 'Director':\n",
    "            return member.get('name')\n",
    "    return None\n",
    "\n",
    "# Aplique la función a la columna `crew`\n",
    "df_credits2['director_name'] = df_credits2['crew'].apply(extract_director)\n",
    "\n",
    "# Mostrar el DataFrame con la nueva columna\n",
    "print(df_credits2[['id', 'director_name']])"
   ]
  },
  {
   "cell_type": "code",
   "execution_count": 10,
   "metadata": {},
   "outputs": [
    {
     "name": "stderr",
     "output_type": "stream",
     "text": [
      "C:\\Users\\Luis Fernando Martin\\AppData\\Local\\Temp\\ipykernel_13056\\1532343543.py:2: SettingWithCopyWarning: \n",
      "A value is trying to be set on a copy of a slice from a DataFrame.\n",
      "Try using .loc[row_indexer,col_indexer] = value instead\n",
      "\n",
      "See the caveats in the documentation: https://pandas.pydata.org/pandas-docs/stable/user_guide/indexing.html#returning-a-view-versus-a-copy\n",
      "  df_credits2['cast'] = df_credits2['cast'].apply(ast.literal_eval)\n"
     ]
    },
    {
     "name": "stdout",
     "output_type": "stream",
     "text": [
      "           id                                        actor_names\n",
      "0         862  [Tom Hanks, Tim Allen, Don Rickles, Jim Varney...\n",
      "1        8844  [Robin Williams, Jonathan Hyde, Kirsten Dunst,...\n",
      "2       15602  [Walter Matthau, Jack Lemmon, Ann-Margret, Sop...\n",
      "3       31357  [Whitney Houston, Angela Bassett, Loretta Devi...\n",
      "4       11862  [Steve Martin, Diane Keaton, Martin Short, Kim...\n",
      "...       ...                                                ...\n",
      "45471  439050        [Leila Hatami, Kourosh Tahami, Elham Korda]\n",
      "45472  111109  [Angel Aquino, Perry Dizon, Hazel Orencio, Joe...\n",
      "45473   67758  [Erika Eleniak, Adam Baldwin, Julie du Page, J...\n",
      "45474  227506  [Iwan Mosschuchin, Nathalie Lissenko, Pavel Pa...\n",
      "45475  461257                                                 []\n",
      "\n",
      "[45432 rows x 2 columns]\n"
     ]
    },
    {
     "name": "stderr",
     "output_type": "stream",
     "text": [
      "C:\\Users\\Luis Fernando Martin\\AppData\\Local\\Temp\\ipykernel_13056\\1532343543.py:9: SettingWithCopyWarning: \n",
      "A value is trying to be set on a copy of a slice from a DataFrame.\n",
      "Try using .loc[row_indexer,col_indexer] = value instead\n",
      "\n",
      "See the caveats in the documentation: https://pandas.pydata.org/pandas-docs/stable/user_guide/indexing.html#returning-a-view-versus-a-copy\n",
      "  df_credits2['actor_names'] = df_credits2['cast'].apply(extract_actor_names)\n"
     ]
    }
   ],
   "source": [
    "# Primero, converti la columna `cast` de texto a una lista de diccionarios\n",
    "df_credits2['cast'] = df_credits2['cast'].apply(ast.literal_eval)\n",
    "\n",
    "# Defini una función para extraer los nombres de los actores\n",
    "def extract_actor_names(cast_list):\n",
    "    return [member['name'] for member in cast_list if 'name' in member]\n",
    "\n",
    "# Aplique la función a la columna `cast`\n",
    "df_credits2['actor_names'] = df_credits2['cast'].apply(extract_actor_names)\n",
    "\n",
    "# Mostrar el DataFrame con la nueva columna\n",
    "print(df_credits2[['id', 'actor_names']])"
   ]
  },
  {
   "cell_type": "code",
   "execution_count": 11,
   "metadata": {},
   "outputs": [],
   "source": [
    "\n",
    "# Verificar si las columnas existen y eliminarlas si es así\n",
    "columns_to_drop = ['cast', 'crew']\n",
    "\n",
    "# Eliminar las columnas si existen\n",
    "df_credits2 = df_credits2.drop(columns=[col for col in columns_to_drop if col in df_credits2.columns], errors='ignore')\n",
    "\n",
    "# Mostrar el DataFrame para confirmar que las columnas han sido eliminadas\n",
    "#print(df1)"
   ]
  },
  {
   "cell_type": "code",
   "execution_count": 12,
   "metadata": {},
   "outputs": [
    {
     "data": {
      "text/html": [
       "<div>\n",
       "<style scoped>\n",
       "    .dataframe tbody tr th:only-of-type {\n",
       "        vertical-align: middle;\n",
       "    }\n",
       "\n",
       "    .dataframe tbody tr th {\n",
       "        vertical-align: top;\n",
       "    }\n",
       "\n",
       "    .dataframe thead th {\n",
       "        text-align: right;\n",
       "    }\n",
       "</style>\n",
       "<table border=\"1\" class=\"dataframe\">\n",
       "  <thead>\n",
       "    <tr style=\"text-align: right;\">\n",
       "      <th></th>\n",
       "      <th>id</th>\n",
       "      <th>director_name</th>\n",
       "      <th>actor_names</th>\n",
       "    </tr>\n",
       "  </thead>\n",
       "  <tbody>\n",
       "    <tr>\n",
       "      <th>0</th>\n",
       "      <td>862</td>\n",
       "      <td>John Lasseter</td>\n",
       "      <td>[Tom Hanks, Tim Allen, Don Rickles, Jim Varney...</td>\n",
       "    </tr>\n",
       "    <tr>\n",
       "      <th>1</th>\n",
       "      <td>8844</td>\n",
       "      <td>Joe Johnston</td>\n",
       "      <td>[Robin Williams, Jonathan Hyde, Kirsten Dunst,...</td>\n",
       "    </tr>\n",
       "    <tr>\n",
       "      <th>2</th>\n",
       "      <td>15602</td>\n",
       "      <td>Howard Deutch</td>\n",
       "      <td>[Walter Matthau, Jack Lemmon, Ann-Margret, Sop...</td>\n",
       "    </tr>\n",
       "    <tr>\n",
       "      <th>3</th>\n",
       "      <td>31357</td>\n",
       "      <td>Forest Whitaker</td>\n",
       "      <td>[Whitney Houston, Angela Bassett, Loretta Devi...</td>\n",
       "    </tr>\n",
       "    <tr>\n",
       "      <th>4</th>\n",
       "      <td>11862</td>\n",
       "      <td>Charles Shyer</td>\n",
       "      <td>[Steve Martin, Diane Keaton, Martin Short, Kim...</td>\n",
       "    </tr>\n",
       "    <tr>\n",
       "      <th>...</th>\n",
       "      <td>...</td>\n",
       "      <td>...</td>\n",
       "      <td>...</td>\n",
       "    </tr>\n",
       "    <tr>\n",
       "      <th>45471</th>\n",
       "      <td>439050</td>\n",
       "      <td>Hamid Nematollah</td>\n",
       "      <td>[Leila Hatami, Kourosh Tahami, Elham Korda]</td>\n",
       "    </tr>\n",
       "    <tr>\n",
       "      <th>45472</th>\n",
       "      <td>111109</td>\n",
       "      <td>Lav Diaz</td>\n",
       "      <td>[Angel Aquino, Perry Dizon, Hazel Orencio, Joe...</td>\n",
       "    </tr>\n",
       "    <tr>\n",
       "      <th>45473</th>\n",
       "      <td>67758</td>\n",
       "      <td>Mark L. Lester</td>\n",
       "      <td>[Erika Eleniak, Adam Baldwin, Julie du Page, J...</td>\n",
       "    </tr>\n",
       "    <tr>\n",
       "      <th>45474</th>\n",
       "      <td>227506</td>\n",
       "      <td>Yakov Protazanov</td>\n",
       "      <td>[Iwan Mosschuchin, Nathalie Lissenko, Pavel Pa...</td>\n",
       "    </tr>\n",
       "    <tr>\n",
       "      <th>45475</th>\n",
       "      <td>461257</td>\n",
       "      <td>Daisy Asquith</td>\n",
       "      <td>[]</td>\n",
       "    </tr>\n",
       "  </tbody>\n",
       "</table>\n",
       "<p>45432 rows × 3 columns</p>\n",
       "</div>"
      ],
      "text/plain": [
       "           id     director_name  \\\n",
       "0         862     John Lasseter   \n",
       "1        8844      Joe Johnston   \n",
       "2       15602     Howard Deutch   \n",
       "3       31357   Forest Whitaker   \n",
       "4       11862     Charles Shyer   \n",
       "...       ...               ...   \n",
       "45471  439050  Hamid Nematollah   \n",
       "45472  111109          Lav Diaz   \n",
       "45473   67758    Mark L. Lester   \n",
       "45474  227506  Yakov Protazanov   \n",
       "45475  461257     Daisy Asquith   \n",
       "\n",
       "                                             actor_names  \n",
       "0      [Tom Hanks, Tim Allen, Don Rickles, Jim Varney...  \n",
       "1      [Robin Williams, Jonathan Hyde, Kirsten Dunst,...  \n",
       "2      [Walter Matthau, Jack Lemmon, Ann-Margret, Sop...  \n",
       "3      [Whitney Houston, Angela Bassett, Loretta Devi...  \n",
       "4      [Steve Martin, Diane Keaton, Martin Short, Kim...  \n",
       "...                                                  ...  \n",
       "45471        [Leila Hatami, Kourosh Tahami, Elham Korda]  \n",
       "45472  [Angel Aquino, Perry Dizon, Hazel Orencio, Joe...  \n",
       "45473  [Erika Eleniak, Adam Baldwin, Julie du Page, J...  \n",
       "45474  [Iwan Mosschuchin, Nathalie Lissenko, Pavel Pa...  \n",
       "45475                                                 []  \n",
       "\n",
       "[45432 rows x 3 columns]"
      ]
     },
     "execution_count": 12,
     "metadata": {},
     "output_type": "execute_result"
    }
   ],
   "source": [
    "df_credits2"
   ]
  },
  {
   "cell_type": "markdown",
   "metadata": {},
   "source": [
    "### Guarde el archivo ya modificado"
   ]
  },
  {
   "cell_type": "code",
   "execution_count": 13,
   "metadata": {},
   "outputs": [],
   "source": [
    "#df_credits2.to_csv('credits.modificado.csv', index=False)"
   ]
  }
 ],
 "metadata": {
  "kernelspec": {
   "display_name": "Python 3",
   "language": "python",
   "name": "python3"
  },
  "language_info": {
   "codemirror_mode": {
    "name": "ipython",
    "version": 3
   },
   "file_extension": ".py",
   "mimetype": "text/x-python",
   "name": "python",
   "nbconvert_exporter": "python",
   "pygments_lexer": "ipython3",
   "version": "3.12.1"
  }
 },
 "nbformat": 4,
 "nbformat_minor": 2
}
